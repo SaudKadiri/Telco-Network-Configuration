{
 "cells": [
  {
   "cell_type": "markdown",
   "metadata": {},
   "source": [
    "# Network Performance Planner Installation guidance\n",
    "This notebook outlines the setup and usage of the Network Performance Planner blueprint, which leverages an agentic AI workflow for dynamic telecom network optimization."
   ]
  },
  {
   "cell_type": "markdown",
   "metadata": {},
   "source": [
    "## Step 1: Clone the Repository"
   ]
  },
  {
   "cell_type": "code",
   "execution_count": null,
   "metadata": {},
   "outputs": [],
   "source": [
    "!git clone https://github.com/bubbleran/Telco-Network-Configuration.git"
   ]
  },
  {
   "cell_type": "markdown",
   "metadata": {},
   "source": [
    "## Step 2: Set Up Environment Variables\n",
    "Before running any services, export your NVIDIA API key and prepare the local cache. If you do not have the NVIDIA API key, please follow these steps to create one:\n",
    "1. Visit build.nvidia.com\n",
    "2. Create an account\n",
    "3. Click your account icon in the screen upper corner\n",
    "4. Select API keys from the menu\n",
    "5. Press Generate API key\n",
    "\n",
    "Once you have a valid API key, edit the /Telco-Network-Configuration/config.yaml and add the NVIDIA API KEY.\n",
    "Also review the other configuration parameters for the blueprint."
   ]
  },
  {
   "cell_type": "markdown",
   "metadata": {},
   "source": [
    "## Step 3: Run Lab"
   ]
  },
  {
   "cell_type": "markdown",
   "metadata": {},
   "source": [
    "Got to directory Telco-Network-Configuration and execute jupyter notebook telco_planner_setup_notebook.ipynb starting in Step2. "
   ]
  },
  {
   "cell_type": "markdown",
   "metadata": {},
   "source": [
    "## Notes:\n",
    "- This blueprint supports BubbleRAN end-to-end 5G O-RAN deployment in either simulation mode or over-the-air (USRP-based) with real-device environments.\n",
    "- The agentic system includes Config, Validation, and Monitoring agents for continuous network optimization."
   ]
  }
 ],
 "metadata": {
  "kernelspec": {
   "display_name": "Python 3 (ipykernel)",
   "language": "python",
   "name": "python3"
  },
  "language_info": {
   "codemirror_mode": {
    "name": "ipython",
    "version": 3
   },
   "file_extension": ".py",
   "mimetype": "text/x-python",
   "name": "python",
   "nbconvert_exporter": "python",
   "pygments_lexer": "ipython3",
   "version": "3.10.12"
  }
 },
 "nbformat": 4,
 "nbformat_minor": 4
}
